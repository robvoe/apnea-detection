{
 "cells": [
  {
   "cell_type": "code",
   "execution_count": null,
   "metadata": {},
   "outputs": [],
   "source": [
    "%load_ext autoreload\n",
    "%autoreload 2\n",
    "%cd ..\n",
    "\n",
    "from IPython.core.display import display, HTML\n",
    "display(HTML(\"<style>.container { width:90% !important; }</style>\"))"
   ]
  },
  {
   "cell_type": "code",
   "execution_count": null,
   "metadata": {
    "pycharm": {
     "name": "#%%\n"
    }
   },
   "outputs": [],
   "source": [
    "import pickle\n",
    "from typing import Dict, Tuple\n",
    "from collections import Counter\n",
    "from pathlib import Path\n",
    "\n",
    "import matplotlib.pyplot as plt\n",
    "from matplotlib.dates import date2num\n",
    "import numpy as np\n",
    "import pandas as pd\n",
    "from tqdm.notebook import tqdm\n",
    "import scipy.signal\n",
    "import scipy.fftpack\n",
    "\n",
    "from util.paths import DATA_PATH\n",
    "from util.datasets import SlidingWindowDataset, read_physionet_dataset, RespiratoryEventType, GroundTruthClass\n",
    "from util.filter import apply_butterworth_bandpass_filter, apply_butterworth_lowpass_filter\n",
    "from util.mathutil import get_peaks, PeakType, cluster_1d, IntRange\n",
    "from rule_based import detect_respiratory_events\n",
    "from rule_based.detector import _detect_airflow_resp_events\n",
    "from util.event_based_metrics import OverlapsBasedConfusionMatrix, get_overlaps\n",
    "from util.mathutil import normalize_robust\n",
    "from ai_based.data_handling.ai_datasets import AiDataset\n",
    "\n",
    "# Makes numpy raise errors instead of outputting warnings\n",
    "np.seterr('raise')\n",
    "\n",
    "# Some preparations to pretty-print tensors & ndarrays\n",
    "np.set_printoptions(edgeitems=10)\n",
    "np.core.arrayprint._line_width = 400"
   ]
  },
  {
   "cell_type": "code",
   "execution_count": null,
   "metadata": {
    "pycharm": {
     "name": "#%%\n"
    }
   },
   "outputs": [],
   "source": [
    "dataset_folder = DATA_PATH / \"tr04-0808\"\n",
    "config = SlidingWindowDataset.Config(\n",
    "    downsample_frequency_hz=5,\n",
    "    time_window_size=pd.to_timedelta(\"5 minutes\"),\n",
    "    time_window_stride=5,\n",
    "    ground_truth_vector_width=1\n",
    ")\n",
    "sliding_window_dataset = SlidingWindowDataset(config=config, dataset_folder=dataset_folder, allow_caching=True)\n",
    "\n",
    "print(f\"#Physionet dataset samples: {len(sliding_window_dataset.signals)}\")\n",
    "print(f\"#Sliding window positions: {len(sliding_window_dataset)}\")\n",
    "print(f\"Timeframe of sliding window positions: {sliding_window_dataset.valid_center_points[-1] - sliding_window_dataset.valid_center_points[0]}\")\n",
    "print(f\"Respiratory events list present: {sliding_window_dataset.respiratory_events is not None}\")"
   ]
  },
  {
   "cell_type": "markdown",
   "metadata": {
    "pycharm": {
     "name": "#%% md\n"
    }
   },
   "source": [
    "### Outputting some statistics on the annotated respiratory events"
   ]
  },
  {
   "cell_type": "code",
   "execution_count": null,
   "metadata": {
    "pycharm": {
     "name": "#%%\n"
    }
   },
   "outputs": [],
   "source": [
    "annotated_respiratory_events = sliding_window_dataset.respiratory_events\n",
    "\n",
    "respiratory_event_type_counter = Counter([e.event_type for e in annotated_respiratory_events])\n",
    "print(\"Respiratory event types as per annotations:\")\n",
    "print(\" - \" + \"\\n - \".join(f\"{klass.name}: {cnt}\" for klass, cnt in respiratory_event_type_counter.items()))\n",
    "print()\n",
    "print(f\"{len(annotated_respiratory_events)} annotated respiratory events:\")\n",
    "print(\" - \" + \"\\n - \".join([f\"#{i}: {evt}\" for i, evt in enumerate(annotated_respiratory_events)]))\n",
    "\n",
    "# Enrich whole sliding window dataset by \"is awake\" row\n",
    "awake_series = sliding_window_dataset.awake_series\n",
    "sliding_window_dataset.signals[awake_series.name] = awake_series\n",
    "del awake_series\n",
    "\n",
    "# Enrich whole sliding window dataset by an events outline\n",
    "annotated_events_outline_mat = np.zeros(shape=(len(sliding_window_dataset.signals),))\n",
    "for event in annotated_respiratory_events:\n",
    "    start_idx = sliding_window_dataset.signals.index.get_loc(event.start, method=\"nearest\")\n",
    "    end_idx = sliding_window_dataset.signals.index.get_loc(event.end, method=\"nearest\")\n",
    "    annotated_events_outline_mat[start_idx:end_idx] = 1\n",
    "annotated_events_outline_series = pd.Series(data=annotated_events_outline_mat, index=sliding_window_dataset.signals.index)\n",
    "sliding_window_dataset.signals[\"Annotated respiratory events\"] = annotated_events_outline_series\n",
    "\n",
    "del annotated_events_outline_series, annotated_events_outline_mat\n"
   ]
  },
  {
   "cell_type": "code",
   "execution_count": null,
   "metadata": {
    "pycharm": {
     "name": "#%%\n"
    }
   },
   "outputs": [],
   "source": [
    "event_num = 6\n",
    "event = annotated_respiratory_events[event_num]\n",
    "print(f\"Duration of chosen respiratory event #{event_num}: {(event.end-event.start).total_seconds():.1f}s\")\n",
    "print(f\"Type of chosen respiratory event: {event.event_type.name}\")\n",
    "\n",
    "window_center_point = event.start + (event.end-event.start)/2\n",
    "window_data = sliding_window_dataset.get(center_point=window_center_point)\n",
    "axes = window_data.signals.plot(figsize=(20, 13), subplots=True)"
   ]
  },
  {
   "cell_type": "markdown",
   "metadata": {
    "pycharm": {
     "name": "#%% md\n"
    }
   },
   "source": [
    "### Peak detection experiments"
   ]
  },
  {
   "cell_type": "code",
   "execution_count": null,
   "metadata": {
    "pycharm": {
     "name": "#%%\n"
    }
   },
   "outputs": [],
   "source": [
    "event_num = 0\n",
    "signal_name = \"AIRFLOW\"\n",
    "event = annotated_respiratory_events[event_num]\n",
    "\n",
    "window_center_point = event.start + (event.end-event.start)/2\n",
    "window_data = sliding_window_dataset.get(center_point=window_center_point)\n",
    "\n",
    "#####\n",
    "\n",
    "kernel_width = int(sliding_window_dataset.config.downsample_frequency_hz*0.7)\n",
    "peaks = get_peaks(waveform=window_data.signals[signal_name].values, filter_kernel_width=kernel_width)\n",
    "peaks_mat = np.zeros(shape=(window_data.signals.shape[0],))\n",
    "for p in peaks:\n",
    "    peaks_mat[p.start:p.end] = p.extreme_value\n",
    "peaks_ser = pd.Series(peaks_mat, index = window_data.signals.index, name=f\"{signal_name} peaks\")\n",
    "\n",
    "#####\n",
    "\n",
    "data = pd.concat([window_data.signals[signal_name], peaks_ser, window_data.signals[\"Annotated respiratory events\"]], axis=1).fillna(method=\"pad\")\n",
    "data.plot(figsize=(20,7), subplots=False)\n",
    "\n",
    "overall_baseline = np.sqrt(np.mean([np.square(p.extreme_value) for p in peaks]))\n",
    "# overall_baseline = np.sqrt(np.median([np.square(p.extreme_value) for p in peaks]))\n",
    "plt.axhline(y=overall_baseline, linestyle='--', color=\"pink\")\n",
    "plt.axhline(y=-overall_baseline, linestyle='--', color=\"pink\")"
   ]
  },
  {
   "cell_type": "code",
   "execution_count": null,
   "outputs": [],
   "source": [],
   "metadata": {
    "collapsed": false,
    "pycharm": {
     "name": "#%%\n"
    }
   }
  },
  {
   "cell_type": "code",
   "execution_count": null,
   "outputs": [],
   "source": [],
   "metadata": {
    "collapsed": false,
    "pycharm": {
     "name": "#%%\n"
    }
   }
  },
  {
   "cell_type": "code",
   "execution_count": null,
   "outputs": [],
   "source": [],
   "metadata": {
    "collapsed": false,
    "pycharm": {
     "name": "#%%\n"
    }
   }
  }
 ],
 "metadata": {
  "kernelspec": {
   "display_name": "Python 3",
   "language": "python",
   "name": "python3"
  },
  "language_info": {
   "codemirror_mode": {
    "name": "ipython",
    "version": 3
   },
   "file_extension": ".py",
   "mimetype": "text/x-python",
   "name": "python",
   "nbconvert_exporter": "python",
   "pygments_lexer": "ipython3",
   "version": "3.9.6"
  }
 },
 "nbformat": 4,
 "nbformat_minor": 1
}