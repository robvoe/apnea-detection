{
 "cells": [
  {
   "cell_type": "code",
   "execution_count": null,
   "metadata": {},
   "outputs": [],
   "source": [
    "%load_ext autoreload\n",
    "%autoreload 2\n",
    "%cd ..\n",
    "\n",
    "from IPython.core.display import display, HTML\n",
    "display(HTML(\"<style>.container { width:90% !important; }</style>\"))"
   ]
  },
  {
   "cell_type": "code",
   "execution_count": null,
   "metadata": {
    "pycharm": {
     "name": "#%%\n"
    }
   },
   "outputs": [],
   "source": [
    "import pickle\n",
    "from typing import Dict, Tuple\n",
    "from collections import Counter\n",
    "\n",
    "import matplotlib.pyplot as plt\n",
    "from matplotlib.dates import date2num\n",
    "import numpy as np\n",
    "import pandas as pd\n",
    "from tqdm.notebook import tqdm\n",
    "import scipy.signal\n",
    "import scipy.fftpack\n",
    "\n",
    "from util.paths import DATA_PATH\n",
    "from util.datasets.sliding_window import SlidingWindowDataset\n",
    "from util.filter import apply_butterworth_bandpass_filter, apply_butterworth_lowpass_filter\n",
    "from util.mathutil import get_peaks, PeakType, cluster_1d, Cluster\n",
    "from util.rule_based_apnea_detector import _detect_airflow_apnea_areas__new\n",
    "\n",
    "# Some preparations to pretty-print tensors & ndarrays\n",
    "np.set_printoptions(edgeitems=10)\n",
    "np.core.arrayprint._line_width = 400"
   ]
  },
  {
   "cell_type": "code",
   "execution_count": null,
   "metadata": {
    "pycharm": {
     "name": "#%%\n"
    }
   },
   "outputs": [],
   "source": [
    "dataset_folder = DATA_PATH / \"training\" / \"tr03-0005\"\n",
    "config = SlidingWindowDataset.Config(\n",
    "    physionet_dataset_folder=dataset_folder,\n",
    "    downsample_frequency_hz=5,\n",
    "    time_window_size=pd.Timedelta(\"2 minutes\")\n",
    ")\n",
    "sliding_window_dataset = SlidingWindowDataset(config=config, allow_caching=True)\n",
    "\n",
    "print(f\"#Physionet dataset samples: {len(sliding_window_dataset.signals)}\")\n",
    "print(f\"#Sliding window positions: {len(sliding_window_dataset)}\")\n",
    "print(f\"Timeframe of sliding window positions: {sliding_window_dataset.valid_center_points[-1] - sliding_window_dataset.valid_center_points[0]}\")\n",
    "print(f\"Apnea events list present: {sliding_window_dataset.apnea_events is not None}\")\n"
   ]
  },
  {
   "cell_type": "markdown",
   "metadata": {
    "pycharm": {
     "name": "#%% md\n"
    }
   },
   "source": [
    "### Filter events, such that we end up with only _apnea events_"
   ]
  },
  {
   "cell_type": "code",
   "execution_count": null,
   "metadata": {
    "pycharm": {
     "name": "#%%\n"
    }
   },
   "outputs": [],
   "source": [
    "annotated_apnea_events = sliding_window_dataset.apnea_events\n",
    "print(f\"{len(annotated_apnea_events)} apnea events:\")\n",
    "print(\" - \" + \"\\n - \".join([f\"#{i}: {evt}\" for i, evt in enumerate(annotated_apnea_events)]))"
   ]
  },
  {
   "cell_type": "code",
   "execution_count": null,
   "metadata": {
    "pycharm": {
     "name": "#%%\n"
    }
   },
   "outputs": [],
   "source": [
    "event_num = 8\n",
    "event = annotated_apnea_events[event_num]\n",
    "\n",
    "window_center_point = event.start + (event.end-event.start)/2\n",
    "window_data = sliding_window_dataset.get(center_point=window_center_point)\n",
    "\n",
    "event_outline = pd.Series(data=[0, 1, 0, 0], index=[window_center_point-pd.Timedelta(\"1 minute\"), event.start, event.end, window_center_point+pd.Timedelta(\"1 minute\")], name=f\"Annotated apnea event #{event_num} ({event.aux_note}), {(event.end-event.start).total_seconds():.1f}s\")\n",
    "data = pd.concat([window_data.signals, event_outline], axis=1).fillna(method=\"pad\")\n",
    "\n",
    "_ = data.plot(figsize=(20, 10), subplots=True)"
   ]
  },
  {
   "cell_type": "markdown",
   "metadata": {
    "pycharm": {
     "name": "#%% md\n"
    }
   },
   "source": [
    "### Peak detection experiments"
   ]
  },
  {
   "cell_type": "code",
   "execution_count": null,
   "metadata": {
    "pycharm": {
     "name": "#%%\n"
    }
   },
   "outputs": [],
   "source": [
    "event_num = 2\n",
    "signal_name = \"AIRFLOW\"\n",
    "event = annotated_apnea_events[event_num]\n",
    "\n",
    "window_center_point = event.start + (event.end-event.start)/2\n",
    "window_data = sliding_window_dataset.get(center_point=window_center_point)\n",
    "\n",
    "#####\n",
    "\n",
    "kernel_width = int(sliding_window_dataset.config.downsample_frequency_hz*0.7)\n",
    "peaks = get_peaks(waveform=window_data.signals[signal_name].values, filter_kernel_width=kernel_width)\n",
    "peaks_mat = np.zeros(shape=(window_data.signals.shape[0],))\n",
    "for p in peaks:\n",
    "    peaks_mat[p.start:p.end] = p.extreme_value\n",
    "peaks_ser = pd.Series(peaks_mat, index = window_data.signals.index, name=f\"{signal_name} peaks\")\n",
    "\n",
    "#####\n",
    "\n",
    "event_outline = pd.Series(data=[0, 20, 0, 0], index=[window_center_point-pd.Timedelta(\"1 minute\"), event.start, event.end, window_center_point+pd.Timedelta(\"1 minute\")], name=f\"Annotated apnea event #{event_num} ({event.aux_note})\")\n",
    "data = pd.concat([window_data.signals[signal_name], peaks_ser, event_outline], axis=1).fillna(method=\"pad\")\n",
    "\n",
    "data.plot(figsize=(20,7), subplots=False)\n",
    "\n",
    "overall_baseline = np.sqrt(np.mean([np.square(p.extreme_value) for p in peaks]))\n",
    "plt.axhline(y=overall_baseline, linestyle='--', color=\"pink\")\n",
    "plt.axhline(y=-overall_baseline, linestyle='--', color=\"pink\")"
   ]
  },
  {
   "cell_type": "markdown",
   "metadata": {
    "pycharm": {
     "name": "#%% md\n"
    }
   },
   "source": [
    "### AIRFLOW-based apnea detection development"
   ]
  },
  {
   "cell_type": "code",
   "execution_count": null,
   "metadata": {
    "pycharm": {
     "name": "#%%\n"
    }
   },
   "outputs": [],
   "source": [
    "event_num = 22\n",
    "signal_name = \"AIRFLOW\"\n",
    "event = annotated_apnea_events[event_num]\n",
    "\n",
    "window_center_point = event.start + (event.end-event.start)/2\n",
    "window_data = sliding_window_dataset.get(center_point=window_center_point)\n",
    "\n",
    "# --------------\n",
    "\n",
    "kernel_width = int(sliding_window_dataset.config.downsample_frequency_hz*0.7)\n",
    "peaks = get_peaks(waveform=window_data.signals[signal_name].values, filter_kernel_width=kernel_width)\n",
    "\n",
    "# ---------------\n",
    "\n",
    "overall_baseline = np.sqrt(np.mean([np.square(p.extreme_value) for p in peaks]))\n",
    "low_peaks = [p for p in peaks if abs(p.extreme_value)<=overall_baseline]\n",
    "low_peaks_mat = np.zeros(shape=(window_data.signals.shape[0],))\n",
    "for p in low_peaks:\n",
    "    low_peaks_mat[p.start:p.end] = p.extreme_value\n",
    "low_peaks_ser = pd.Series(low_peaks_mat, index = window_data.signals.index, name=\"AIRFLOW below-baseline peaks\")\n",
    "\n",
    "# # ---------------\n",
    "\n",
    "clusters, coarse_types = _detect_airflow_apnea_areas__new(window_data.signals[\"AIRFLOW\"].values, sample_frequency_hz=sliding_window_dataset.config.downsample_frequency_hz)\n",
    "cluster_mat = np.zeros(shape=(window_data.signals.shape[0],))\n",
    "for c in clusters:\n",
    "    cluster_mat[c.start:c.end] += 20.0\n",
    "clusters_ser = pd.Series(cluster_mat, index=window_data.signals.index, name=\"AIRFLOW: detected apneas\")\n",
    "print(\"Detected apneas:\")\n",
    "print(\" - \" + \"\\n - \".join([f\"{t.name}: {c.length/sliding_window_dataset.config.downsample_frequency_hz:.1f}s\" for c, t in zip(clusters, coarse_types)]))\n",
    "\n",
    "\n",
    "\n",
    "event_outline = pd.Series(data=[0, 7, 0, 0], index=[window_center_point-pd.Timedelta(\"1 minute\"), event.start, event.end, window_center_point+pd.Timedelta(\"1 minute\")], name=f\"Annotated apnea event #{event_num} ({event.aux_note}), {(event.end-event.start).total_seconds():.1f}s\")\n",
    "data = pd.concat([window_data.signals[\"AIRFLOW\"], event_outline, clusters_ser], axis=1).fillna(method=\"pad\")\n",
    "event_outline = data[event_outline.name]\n",
    "\n",
    "data.plot(figsize=(20,10), subplots=False)\n",
    "plt.axhline(y=overall_baseline, linestyle='--', color=\"pink\")\n",
    "plt.axhline(y=-overall_baseline, linestyle='--', color=\"pink\")\n",
    "\n",
    "# print(f\"Annotated event position: {window_data.signals.index.get_loc(event.start, method='nearest')}..{window_data.signals.index.get_loc(event.end, method='nearest')}\")\n",
    "None"
   ]
  },
  {
   "cell_type": "code",
   "execution_count": null,
   "metadata": {
    "pycharm": {
     "name": "#%%\n"
    }
   },
   "outputs": [],
   "source": []
  },
  {
   "cell_type": "code",
   "execution_count": null,
   "metadata": {
    "pycharm": {
     "name": "#%%\n"
    }
   },
   "outputs": [],
   "source": []
  },
  {
   "cell_type": "code",
   "execution_count": null,
   "metadata": {
    "pycharm": {
     "name": "#%%\n"
    }
   },
   "outputs": [],
   "source": []
  }
 ],
 "metadata": {
  "kernelspec": {
   "display_name": "Python 3",
   "language": "python",
   "name": "python3"
  },
  "language_info": {
   "codemirror_mode": {
    "name": "ipython",
    "version": 3
   },
   "file_extension": ".py",
   "mimetype": "text/x-python",
   "name": "python",
   "nbconvert_exporter": "python",
   "pygments_lexer": "ipython3",
   "version": "3.9.6"
  }
 },
 "nbformat": 4,
 "nbformat_minor": 1
}