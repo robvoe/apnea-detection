{
 "cells": [
  {
   "cell_type": "code",
   "execution_count": null,
   "metadata": {},
   "outputs": [],
   "source": [
    "%load_ext autoreload\n",
    "%autoreload 2\n",
    "%cd ..\n",
    "\n",
    "from IPython.core.display import display, HTML\n",
    "display(HTML(\"<style>.container { width:90% !important; }</style>\"))"
   ]
  },
  {
   "cell_type": "code",
   "execution_count": null,
   "metadata": {
    "pycharm": {
     "name": "#%%\n"
    }
   },
   "outputs": [],
   "source": [
    "import pickle\n",
    "from typing import Dict, Tuple\n",
    "from collections import Counter\n",
    "\n",
    "import matplotlib.pyplot as plt\n",
    "from matplotlib.dates import date2num\n",
    "import numpy as np\n",
    "import pandas as pd\n",
    "from tqdm.notebook import tqdm\n",
    "import scipy.signal\n",
    "import scipy.fftpack\n",
    "\n",
    "from util.paths import DATA_PATH\n",
    "from util.datasets.sliding_window import SlidingWindowDataset\n",
    "from util.filter import apply_butterworth_bandpass_filter, apply_butterworth_lowpass_filter\n",
    "from util.mathutil import get_peaks, PeakType, cluster_1d, Cluster\n",
    "from util.rule_based_apnea_detector import detect_apneas, _detect_airflow_apnea_areas\n",
    "\n",
    "# Some preparations to pretty-print tensors & ndarrays\n",
    "np.set_printoptions(edgeitems=10)\n",
    "np.core.arrayprint._line_width = 400"
   ]
  },
  {
   "cell_type": "code",
   "execution_count": null,
   "metadata": {
    "pycharm": {
     "name": "#%%\n"
    }
   },
   "outputs": [],
   "source": [
    "dataset_folder = DATA_PATH / \"training\" / \"tr03-0005\"\n",
    "config = SlidingWindowDataset.Config(\n",
    "    physionet_dataset_folder=dataset_folder,\n",
    "    downsample_frequency_hz=5,\n",
    "    time_window_size=pd.Timedelta(\"2 minutes\")\n",
    ")\n",
    "sliding_window_dataset = SlidingWindowDataset(config=config, allow_caching=True)\n",
    "\n",
    "print(f\"#Physionet dataset samples: {len(sliding_window_dataset.signals)}\")\n",
    "print(f\"#Sliding window positions: {len(sliding_window_dataset)}\")\n",
    "print(f\"Timeframe of sliding window positions: {sliding_window_dataset.valid_center_points[-1] - sliding_window_dataset.valid_center_points[0]}\")\n",
    "print(f\"Apnea events list present: {sliding_window_dataset.apnea_events is not None}\")\n"
   ]
  },
  {
   "cell_type": "markdown",
   "metadata": {
    "pycharm": {
     "name": "#%% md\n"
    }
   },
   "source": [
    "### Filter events, such that we end up with only _apnea events_"
   ]
  },
  {
   "cell_type": "code",
   "execution_count": null,
   "metadata": {
    "pycharm": {
     "name": "#%%\n"
    }
   },
   "outputs": [],
   "source": [
    "annotated_apnea_events = sliding_window_dataset.apnea_events\n",
    "print(f\"{len(annotated_apnea_events)} annotated apnea events:\")\n",
    "print(\" - \" + \"\\n - \".join([f\"#{i}: {evt}\" for i, evt in enumerate(annotated_apnea_events)]))\n",
    "\n",
    "# Enrich whole sliding window dataset by an events outline\n",
    "annotated_events_outline_mat = np.zeros(shape=(len(sliding_window_dataset.signals),))\n",
    "for apnea_event in annotated_apnea_events:\n",
    "    start_idx = sliding_window_dataset.signals.index.get_loc(apnea_event.start, method=\"nearest\")\n",
    "    end_idx = sliding_window_dataset.signals.index.get_loc(apnea_event.end, method=\"nearest\")\n",
    "    annotated_events_outline_mat[start_idx:end_idx] = 10.0\n",
    "annotated_events_outline_series = pd.Series(data=annotated_events_outline_mat, index=sliding_window_dataset.signals.index)\n",
    "sliding_window_dataset.signals[\"Annotated apnea events\"] = annotated_events_outline_series\n",
    "\n",
    "del annotated_events_outline_series, annotated_events_outline_mat"
   ]
  },
  {
   "cell_type": "code",
   "execution_count": null,
   "metadata": {
    "pycharm": {
     "name": "#%%\n"
    }
   },
   "outputs": [],
   "source": [
    "event_num = 0\n",
    "event = annotated_apnea_events[event_num]\n",
    "print(f\"Duration of chosen apnea event #{event_num}: {(event.end-event.start).total_seconds():.1f}s\")\n",
    "print(f\"Type of chosen apnea event: {event.apnea_type.name}\")\n",
    "\n",
    "window_center_point = event.start + (event.end-event.start)/2\n",
    "window_data = sliding_window_dataset.get(center_point=window_center_point)\n",
    "axes = window_data.signals.plot(figsize=(20, 10), subplots=True)"
   ]
  },
  {
   "cell_type": "markdown",
   "metadata": {
    "pycharm": {
     "name": "#%% md\n"
    }
   },
   "source": [
    "### Peak detection experiments"
   ]
  },
  {
   "cell_type": "code",
   "execution_count": null,
   "metadata": {
    "pycharm": {
     "name": "#%%\n"
    }
   },
   "outputs": [],
   "source": [
    "event_num = 2\n",
    "signal_name = \"AIRFLOW\"\n",
    "event = annotated_apnea_events[event_num]\n",
    "\n",
    "window_center_point = event.start + (event.end-event.start)/2\n",
    "window_data = sliding_window_dataset.get(center_point=window_center_point)\n",
    "\n",
    "#####\n",
    "\n",
    "kernel_width = int(sliding_window_dataset.config.downsample_frequency_hz*0.7)\n",
    "peaks = get_peaks(waveform=window_data.signals[signal_name].values, filter_kernel_width=kernel_width)\n",
    "peaks_mat = np.zeros(shape=(window_data.signals.shape[0],))\n",
    "for p in peaks:\n",
    "    peaks_mat[p.start:p.end] = p.extreme_value\n",
    "peaks_ser = pd.Series(peaks_mat, index = window_data.signals.index, name=f\"{signal_name} peaks\")\n",
    "\n",
    "#####\n",
    "\n",
    "data = pd.concat([window_data.signals[signal_name], peaks_ser, window_data.signals[\"Annotated apnea events\"]], axis=1).fillna(method=\"pad\")\n",
    "data.plot(figsize=(20,7), subplots=False)\n",
    "\n",
    "overall_baseline = np.sqrt(np.mean([np.square(p.extreme_value) for p in peaks]))\n",
    "plt.axhline(y=overall_baseline, linestyle='--', color=\"pink\")\n",
    "plt.axhline(y=-overall_baseline, linestyle='--', color=\"pink\")"
   ]
  },
  {
   "cell_type": "markdown",
   "metadata": {
    "pycharm": {
     "name": "#%% md\n"
    }
   },
   "source": [
    "### AIRFLOW-based apnea detection development"
   ]
  },
  {
   "cell_type": "code",
   "execution_count": null,
   "metadata": {
    "pycharm": {
     "name": "#%%\n"
    }
   },
   "outputs": [],
   "source": [
    "event_num = 2\n",
    "signal_name = \"AIRFLOW\"\n",
    "event = annotated_apnea_events[event_num]\n",
    "\n",
    "window_center_point = event.start + (event.end-event.start)/2\n",
    "window_data = sliding_window_dataset.get(center_point=window_center_point)\n",
    "\n",
    "# --------------\n",
    "\n",
    "kernel_width = int(sliding_window_dataset.config.downsample_frequency_hz*0.7)\n",
    "peaks = get_peaks(waveform=window_data.signals[signal_name].values, filter_kernel_width=kernel_width)\n",
    "\n",
    "# ---------------\n",
    "\n",
    "overall_baseline = np.sqrt(np.mean([np.square(p.extreme_value) for p in peaks]))\n",
    "low_peaks = [p for p in peaks if abs(p.extreme_value)<=overall_baseline]\n",
    "low_peaks_mat = np.zeros(shape=(window_data.signals.shape[0],))\n",
    "for p in low_peaks:\n",
    "    low_peaks_mat[p.start:p.end] = p.extreme_value\n",
    "low_peaks_ser = pd.Series(low_peaks_mat, index = window_data.signals.index, name=\"AIRFLOW below-baseline peaks\")\n",
    "\n",
    "# ---------------\n",
    "\n",
    "clusters, coarse_types = _detect_airflow_apnea_areas(window_data.signals[\"AIRFLOW\"].values, sample_frequency_hz=sliding_window_dataset.config.downsample_frequency_hz)\n",
    "cluster_mat = np.zeros(shape=(window_data.signals.shape[0],))\n",
    "for c in clusters:\n",
    "    cluster_mat[c.start:c.end] += 20.0\n",
    "clusters_ser = pd.Series(cluster_mat, index=window_data.signals.index, name=\"AIRFLOW: detected apneas\")\n",
    "print(\"Detected apneas:\")\n",
    "print(\" - \" + \"\\n - \".join([f\"{t.name}: {c.length/sliding_window_dataset.config.downsample_frequency_hz:.1f}s\" for c, t in zip(clusters, coarse_types)]))\n",
    "\n",
    "\n",
    "\n",
    "data = pd.concat([window_data.signals[\"AIRFLOW\"], clusters_ser, window_data.signals[\"Annotated apnea events\"]], axis=1).fillna(method=\"pad\")\n",
    "data.plot(figsize=(20,10), subplots=False)\n",
    "plt.axhline(y=overall_baseline, linestyle='--', color=\"pink\")\n",
    "plt.axhline(y=-overall_baseline, linestyle='--', color=\"pink\")\n",
    "\n",
    "# print(f\"Annotated event position: {window_data.signals.index.get_loc(event.start, method='nearest')}..{window_data.signals.index.get_loc(event.end, method='nearest')}\")\n",
    "None"
   ]
  },
  {
   "cell_type": "markdown",
   "metadata": {
    "pycharm": {
     "name": "#%% md\n"
    }
   },
   "source": [
    "### Apnea detection run over an entire dataset"
   ]
  },
  {
   "cell_type": "code",
   "execution_count": null,
   "metadata": {
    "pycharm": {
     "name": "#%%\n"
    }
   },
   "outputs": [],
   "source": [
    "detected_apnea_events = detect_apneas(sliding_window_dataset.signals, sample_frequency_hz=sliding_window_dataset.config.downsample_frequency_hz)\n",
    "print(f\"Detected {len(detected_apnea_events)} apnea events\")\n",
    "\n",
    "# Enrich whole sliding window dataset by an events outline\n",
    "detected_events_outline_mat = np.zeros(shape=(len(sliding_window_dataset.signals),))\n",
    "for apnea_event in detected_apnea_events:\n",
    "    start_idx = sliding_window_dataset.signals.index.get_loc(apnea_event.start, method=\"nearest\")\n",
    "    end_idx = sliding_window_dataset.signals.index.get_loc(apnea_event.end, method=\"nearest\")\n",
    "    detected_events_outline_mat[start_idx:end_idx] = 20.0\n",
    "detected_events_outline_series = pd.Series(data=detected_events_outline_mat, index=sliding_window_dataset.signals.index)\n",
    "sliding_window_dataset.signals[\"Detected apnea events\"] = detected_events_outline_series\n",
    "\n",
    "del detected_events_outline_series, detected_events_outline_mat"
   ]
  },
  {
   "cell_type": "code",
   "execution_count": null,
   "metadata": {
    "pycharm": {
     "name": "#%%\n"
    }
   },
   "outputs": [],
   "source": [
    "event_num = 17\n",
    "event = detected_apnea_events[event_num]\n",
    "print(f\"Duration of chosen apnea event #{event_num}: {(event.end-event.start).total_seconds():.1f}s\")\n",
    "print(f\"Type of chosen apnea event: {event.apnea_type.name}\")\n",
    "\n",
    "window_center_point = event.start + (event.end-event.start)/2\n",
    "window_data = sliding_window_dataset.get(center_point=window_center_point)\n",
    "_ = window_data.signals.plot(figsize=(20, 15), subplots=True)"
   ]
  },
  {
   "cell_type": "markdown",
   "metadata": {
    "pycharm": {
     "name": "#%% md\n"
    }
   },
   "source": [
    "### Determine overlaps DETECTED vs. ANNOTATED apnea events"
   ]
  },
  {
   "cell_type": "code",
   "execution_count": null,
   "metadata": {
    "pycharm": {
     "name": "#%%\n"
    }
   },
   "outputs": [],
   "source": [
    "n_overlapping_events = 0\n",
    "for a_ in annotated_apnea_events:\n",
    "    for d_ in detected_apnea_events:\n",
    "        if a_.overlaps(d_):\n",
    "            n_overlapping_events += 1\n",
    "            break\n",
    "\n",
    "print(f\"Number of annotated events: {len(annotated_apnea_events)}\")\n",
    "print(f\"Number of detected events: {len(detected_apnea_events)}\")\n",
    "print(f\"Number of OVERLAPPING events: {n_overlapping_events}\")\n",
    "print()\n",
    "print(\"Scores:\")\n",
    "print(f\"- Coverage of annotated apnea events: {n_overlapping_events/len(annotated_apnea_events)*100:.1f}%\")\n",
    "print(f\"- Detected but unlabeled events: {n_overlapping_events/len(detected_apnea_events)*100:.1f}%\")\n"
   ]
  },
  {
   "cell_type": "code",
   "execution_count": null,
   "metadata": {
    "pycharm": {
     "name": "#%%\n"
    }
   },
   "outputs": [],
   "source": []
  },
  {
   "cell_type": "code",
   "execution_count": null,
   "metadata": {
    "pycharm": {
     "name": "#%%\n"
    }
   },
   "outputs": [],
   "source": []
  },
  {
   "cell_type": "code",
   "execution_count": null,
   "metadata": {
    "pycharm": {
     "name": "#%%\n"
    }
   },
   "outputs": [],
   "source": []
  },
  {
   "cell_type": "code",
   "execution_count": null,
   "metadata": {
    "pycharm": {
     "name": "#%%\n"
    }
   },
   "outputs": [],
   "source": []
  }
 ],
 "metadata": {
  "kernelspec": {
   "display_name": "Python 3",
   "language": "python",
   "name": "python3"
  },
  "language_info": {
   "codemirror_mode": {
    "name": "ipython",
    "version": 3
   },
   "file_extension": ".py",
   "mimetype": "text/x-python",
   "name": "python",
   "nbconvert_exporter": "python",
   "pygments_lexer": "ipython3",
   "version": "3.9.6"
  }
 },
 "nbformat": 4,
 "nbformat_minor": 1
}