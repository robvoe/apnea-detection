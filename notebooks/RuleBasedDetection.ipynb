{
 "cells": [
  {
   "cell_type": "code",
   "execution_count": null,
   "metadata": {},
   "outputs": [],
   "source": [
    "%load_ext autoreload\n",
    "%autoreload 2\n",
    "%cd ..\n",
    "\n",
    "from IPython.core.display import display, HTML\n",
    "display(HTML(\"<style>.container { width:90% !important; }</style>\"))"
   ]
  },
  {
   "cell_type": "code",
   "execution_count": null,
   "metadata": {
    "pycharm": {
     "name": "#%%\n"
    }
   },
   "outputs": [],
   "source": [
    "import pickle\n",
    "from typing import Dict, Tuple, List\n",
    "from collections import Counter\n",
    "import functools\n",
    "from pathlib import Path\n",
    "\n",
    "import matplotlib.pyplot as plt\n",
    "from matplotlib.dates import date2num\n",
    "import numpy as np\n",
    "import pandas as pd\n",
    "from tqdm.notebook import tqdm\n",
    "import scipy.signal\n",
    "import scipy.fftpack\n",
    "\n",
    "from util.train_test_split import read_train_test_split_yaml\n",
    "from util.paths import DATA_PATH, TRAIN_TEST_SPLIT_YAML\n",
    "from util.datasets import SlidingWindowDataset, read_physionet_dataset, RespiratoryEventType, RespiratoryEvent\n",
    "from util.filter import apply_butterworth_bandpass_filter, apply_butterworth_lowpass_filter\n",
    "from util.mathutil import get_peaks, PeakType, cluster_1d, IntRange\n",
    "from rule_based import detect_respiratory_events, detect_respiratory_events_multicore\n",
    "from util.event_based_metrics import EventBasedConfusionMatrix, get_overlaps, get_n_detected_annotations\n",
    "\n",
    "# Makes numpy raise errors instead of outputting warnings\n",
    "np.seterr('raise')\n",
    "\n",
    "# Some preparations to pretty-print tensors & ndarrays\n",
    "np.set_printoptions(edgeitems=10)\n",
    "np.core.arrayprint._line_width = 400"
   ]
  },
  {
   "cell_type": "markdown",
   "source": [
    "### Loading the dataset"
   ],
   "metadata": {
    "collapsed": false,
    "pycharm": {
     "name": "#%% md\n"
    }
   }
  },
  {
   "cell_type": "code",
   "execution_count": null,
   "metadata": {
    "pycharm": {
     "name": "#%%\n"
    }
   },
   "outputs": [],
   "source": [
    "dataset_folder = DATA_PATH / \"training\" / \"tr03-0005\"\n",
    "config = SlidingWindowDataset.Config(\n",
    "    downsample_frequency_hz=5,\n",
    "    time_window_size=pd.Timedelta(\"5 minutes\")\n",
    ")\n",
    "sliding_window_dataset = SlidingWindowDataset(config=config, dataset_folder=dataset_folder, allow_caching=True)\n",
    "\n",
    "print(f\"#Physionet dataset samples: {len(sliding_window_dataset.signals)}\")\n",
    "print(f\"#Sliding window positions: {len(sliding_window_dataset)}\")\n",
    "print(f\"Timeframe of sliding window positions: {sliding_window_dataset.valid_center_points[-1] - sliding_window_dataset.valid_center_points[0]}\")\n",
    "print(f\"Respiratory events list present: {sliding_window_dataset.respiratory_events is not None}\")"
   ]
  },
  {
   "cell_type": "markdown",
   "metadata": {
    "pycharm": {
     "name": "#%% md\n"
    }
   },
   "source": [
    "### Outputting some statistics on the annotated respiratory events"
   ]
  },
  {
   "cell_type": "code",
   "execution_count": null,
   "metadata": {
    "pycharm": {
     "name": "#%%\n"
    }
   },
   "outputs": [],
   "source": [
    "annotated_respiratory_events = sliding_window_dataset.respiratory_events\n",
    "\n",
    "respiratory_event_type_counter = Counter([e.event_type for e in annotated_respiratory_events])\n",
    "print(\"Respiratory event types as per annotations:\")\n",
    "print(\" - \" + \"\\n - \".join(f\"{klass.name}: {cnt}\" for klass, cnt in respiratory_event_type_counter.items()))\n",
    "print()\n",
    "print(f\"{len(annotated_respiratory_events)} annotated respiratory events:\")\n",
    "print(\" - \" + \"\\n - \".join([f\"#{i}: {evt}\" for i, evt in enumerate(annotated_respiratory_events)]))\n",
    "\n",
    "# Enrich whole sliding window dataset by \"is awake\" row\n",
    "awake_series = sliding_window_dataset.awake_series\n",
    "sliding_window_dataset.signals[awake_series.name] = awake_series\n",
    "del awake_series\n",
    "\n",
    "# Enrich whole sliding window dataset by an events outline\n",
    "annotated_events_outline_mat = np.zeros(shape=(len(sliding_window_dataset.signals),))\n",
    "for event in annotated_respiratory_events:\n",
    "    start_idx = sliding_window_dataset.signals.index.get_loc(event.start, method=\"nearest\")\n",
    "    end_idx = sliding_window_dataset.signals.index.get_loc(event.end, method=\"nearest\")\n",
    "    annotated_events_outline_mat[start_idx:end_idx] = 1\n",
    "annotated_events_outline_series = pd.Series(data=annotated_events_outline_mat, index=sliding_window_dataset.signals.index)\n",
    "sliding_window_dataset.signals[\"Annotated respiratory events\"] = annotated_events_outline_series\n",
    "\n",
    "del annotated_events_outline_series, annotated_events_outline_mat"
   ]
  },
  {
   "cell_type": "markdown",
   "metadata": {
    "pycharm": {
     "name": "#%% md\n"
    }
   },
   "source": [
    "### Detection run over a single dataset"
   ]
  },
  {
   "cell_type": "markdown",
   "source": [
    "Perform the detection. Also generate an outline for the detected events,\n",
    "which is nice for plotting."
   ],
   "metadata": {
    "collapsed": false,
    "pycharm": {
     "name": "#%% md\n"
    }
   }
  },
  {
   "cell_type": "code",
   "execution_count": null,
   "metadata": {
    "pycharm": {
     "name": "#%%\n"
    }
   },
   "outputs": [],
   "source": [
    "detected_respiratory_events = detect_respiratory_events(sliding_window_dataset.signals, sample_frequency_hz=sliding_window_dataset.config.downsample_frequency_hz, awake_series=None)\n",
    "detected_hypopnea_events_ = [d_ for d_ in detected_respiratory_events if d_.event_type == RespiratoryEventType.Hypopnea]\n",
    "detected_apnea_events_ = [d_ for d_ in detected_respiratory_events if d_.event_type != RespiratoryEventType.Hypopnea]\n",
    "\n",
    "print()\n",
    "print(f\"Detected {len(detected_respiratory_events)} respiratory events\")\n",
    "print(f\" ..of which are {len(detected_hypopnea_events_)} hypopneas\")\n",
    "\n",
    "# Enrich whole sliding window dataset by an events outline\n",
    "detected_events_outline_mat = np.zeros(shape=(len(sliding_window_dataset.signals),))\n",
    "for event in detected_respiratory_events:\n",
    "    start_idx = sliding_window_dataset.signals.index.get_loc(event.start, method=\"nearest\")\n",
    "    end_idx = sliding_window_dataset.signals.index.get_loc(event.end, method=\"nearest\")\n",
    "    detected_events_outline_mat[start_idx:end_idx] = 1\n",
    "detected_events_outline_series = pd.Series(data=detected_events_outline_mat, index=sliding_window_dataset.signals.index)\n",
    "sliding_window_dataset.signals[\"Detected respiratory events\"] = detected_events_outline_series\n",
    "\n",
    "del detected_events_outline_series, detected_events_outline_mat"
   ]
  },
  {
   "cell_type": "markdown",
   "source": [
    "Generate and output some statistics on the detection performance. These are:\n",
    "- Overlaps of detected & annotated respiratory events\n",
    "- Confusion matrix based metrics\n",
    "- Confusion matrix plot"
   ],
   "metadata": {
    "collapsed": false,
    "pycharm": {
     "name": "#%% md\n"
    }
   }
  },
  {
   "cell_type": "code",
   "execution_count": null,
   "metadata": {
    "pycharm": {
     "name": "#%%\n"
    }
   },
   "outputs": [],
   "source": [
    "# Get overlapping annotated/detected events & derive some statistics\n",
    "overlapping_events = get_overlaps(annotated_events=annotated_respiratory_events, detected_events=detected_respiratory_events)\n",
    "detected_but_not_annotated = [d_ for d_ in detected_respiratory_events if not any(a_.overlaps(d_) for a_ in annotated_respiratory_events)]\n",
    "annotated_but_not_detected = [a_ for a_ in annotated_respiratory_events if not any(d_.overlaps(a_) for d_ in detected_respiratory_events)]\n",
    "\n",
    "print(f\"Number of annotated events: {len(annotated_respiratory_events)}\")\n",
    "print(f\"Number of detected events: {len(detected_respiratory_events)}\")\n",
    "print()\n",
    "print(f\"Number of OVERLAPPING events: {len(overlapping_events)}\")\n",
    "print(f\"- Coverage of annotated respiratory events {len(overlapping_events)/len(annotated_respiratory_events)*100:.1f}%\")\n",
    "print(f\"- Detected events that also appear in annotations: {len(overlapping_events)/len(detected_respiratory_events)*100:.1f}%\")\n",
    "print()\n",
    "\n",
    "# Obtain confusion-matrix based metrics\n",
    "confusion_matrix = EventBasedConfusionMatrix(annotated_events=annotated_respiratory_events, detected_events=detected_respiratory_events)\n",
    "macro_scores = confusion_matrix.get_macro_scores()\n",
    "print(\"Confusion-matrix based macro scores:\")\n",
    "print(f\" -> {macro_scores}\")\n",
    "\n",
    "confusion_matrix.plot(title=\"Confusion matrix for classification confidence over a single dataset\")\n"
   ]
  },
  {
   "cell_type": "markdown",
   "source": [
    "The following lines allow plotting annotated & detected respiratory events"
   ],
   "metadata": {
    "collapsed": false,
    "pycharm": {
     "name": "#%% md\n"
    }
   }
  },
  {
   "cell_type": "code",
   "execution_count": null,
   "metadata": {
    "pycharm": {
     "name": "#%%\n"
    }
   },
   "outputs": [],
   "source": [
    "event_num = 29\n",
    "event = annotated_respiratory_events[event_num]\n",
    "# event = detected_respiratory_events[event_num]\n",
    "# event = detected_but_not_annotated[event_num]\n",
    "# event = annotated_but_not_detected[event_num]\n",
    "# event = detected_hypopnea_events[event_num]\n",
    "\n",
    "window_center_point = event.start + (event.end-event.start)/2\n",
    "window_start = window_center_point - sliding_window_dataset.config.time_window_size / 2\n",
    "window_end = window_center_point + sliding_window_dataset.config.time_window_size / 2\n",
    "\n",
    "annotated_in_window = [e for e in annotated_respiratory_events if e.end > window_start and e.start < window_end]\n",
    "detected_in_window = [e for e in detected_respiratory_events if e.end > window_start and e.start < window_end]\n",
    "print()\n",
    "print(\"Annotated respiratory events in window:\")\n",
    "print(\" - \" + \"\\n - \".join([f\"{e.event_type.name}: {(e.end-e.start).total_seconds():.1f}s\" for e in annotated_in_window]))\n",
    "print()\n",
    "print(\"Detected respiratory events in window:\")\n",
    "print(\" - \" + \"\\n - \".join([f\"{e.event_type.name}: {(e.end-e.start).total_seconds():.1f}s\" for e in detected_in_window]))\n",
    "\n",
    "window_data = sliding_window_dataset.get(center_point=window_center_point)\n",
    "_ = window_data.signals.plot(figsize=(25, 12), subplots=True)\n"
   ]
  },
  {
   "cell_type": "markdown",
   "source": [
    "### Detection run over a multiple datasets"
   ],
   "metadata": {
    "collapsed": false
   }
  },
  {
   "cell_type": "markdown",
   "source": [
    "Run multicore detector on a number of datasets."
   ],
   "metadata": {
    "collapsed": false,
    "pycharm": {
     "name": "#%% md\n"
    }
   }
  },
  {
   "cell_type": "code",
   "execution_count": null,
   "outputs": [],
   "source": [
    "# Use training dataset folders as per train-test-split\n",
    "data_folder = DATA_PATH / \"training\"\n",
    "train_test_folders = read_train_test_split_yaml(input_yaml=TRAIN_TEST_SPLIT_YAML, prefix_base_folder=data_folder)\n",
    "dataset_folders = train_test_folders.train\n",
    "del train_test_folders\n",
    "\n",
    "# Use a given, small set of dataset folders\n",
    "dataset_names = (\"tr03-0005\", \"tr03-0289\", \"tr03-0921\", \"tr04-1078\", \"tr07-0168\")\n",
    "dataset_folders = [DATA_PATH / \"training\" / name for name in dataset_names]"
   ],
   "metadata": {
    "collapsed": false,
    "pycharm": {
     "name": "#%%\n"
    }
   }
  },
  {
   "cell_type": "code",
   "execution_count": null,
   "outputs": [],
   "source": [
    "config = SlidingWindowDataset.Config(\n",
    "    downsample_frequency_hz=5,\n",
    "\n",
    "    # The following fields have no effect on rule-based detection, though need to be provided and -indeed- have an effect on cache-misses\n",
    "    time_window_size=pd.Timedelta(\"5 minutes\"),\n",
    "    time_window_stride=5,\n",
    "    ground_truth_vector_width=11\n",
    ")\n",
    "\n",
    "# Let's first load our datasets & prepare the data. That -if no cache available- might take a while\n",
    "sliding_window_datasets: List[SlidingWindowDataset] = []\n",
    "signals: List[pd.DataFrame] = []\n",
    "awake_series: List[pd.Series] = []\n",
    "for dataset_folder in tqdm(dataset_folders, desc=\"Load & pre-process datasets\"):\n",
    "    sliding_window_dataset = SlidingWindowDataset(config=config, dataset_folder=dataset_folder, allow_caching=True)\n",
    "    sliding_window_datasets += [sliding_window_dataset]\n",
    "    signals += [sliding_window_dataset.signals]\n",
    "    awake_series += [sliding_window_dataset.awake_series]\n",
    "\n",
    "# Do the multicore detection work\n",
    "progress_fn_ = functools.partial(tqdm, total=len(sliding_window_datasets), desc=\"Detecting respiratory events\")\n",
    "detected_event_lists: List[List[RespiratoryEvent]] = detect_respiratory_events_multicore(\n",
    "    signals=signals,\n",
    "    sample_frequency_hz=config.downsample_frequency_hz,\n",
    "    awake_series=None,  # Insert 'awake_series' from above, such that respiratory events during wake times are neglected\n",
    "    progress_fn=progress_fn_\n",
    ")"
   ],
   "metadata": {
    "collapsed": false,
    "pycharm": {
     "name": "#%%\n"
    }
   }
  },
  {
   "cell_type": "markdown",
   "source": [
    "Run a few metrics on the freshly-detected respiratory events. Also, directly print out a few statistics on overlaps\n",
    "of annotated & detected respiratory events, which results in the __annotation recall__ score."
   ],
   "metadata": {
    "collapsed": false,
    "pycharm": {
     "name": "#%% md\n"
    }
   }
  },
  {
   "cell_type": "code",
   "execution_count": null,
   "outputs": [],
   "source": [
    "# Run metrics on our detections\n",
    "overall_confusion_matrix = EventBasedConfusionMatrix.empty()\n",
    "n_annotated_events: int = 0\n",
    "n_detected_events: int = 0\n",
    "n_detected_annotations: int = 0\n",
    "for sliding_window_dataset, detected_events in zip(sliding_window_datasets, detected_event_lists):\n",
    "    n_detected_events += len(detected_events)\n",
    "    n_annotated_events += len(sliding_window_dataset.respiratory_events)\n",
    "\n",
    "    cm_ = EventBasedConfusionMatrix(annotated_events=sliding_window_dataset.respiratory_events, detected_events=detected_events)\n",
    "    overall_confusion_matrix += cm_\n",
    "    o_ = get_n_detected_annotations(annotated_events=sliding_window_dataset.respiratory_events, detected_events=detected_events)\n",
    "    n_detected_annotations += o_\n",
    "\n",
    "print(f\"Number of annotated respiratory events: {n_annotated_events}\")\n",
    "print(f\"Number of detected respiratory events: {n_detected_events}\")\n",
    "print()\n",
    "print(f\"Number of detected annotations (overlaps): {n_detected_annotations} out of {n_annotated_events}\")\n",
    "print(f\" -> Annotation recall: {n_detected_annotations/n_annotated_events:.3f}\")"
   ],
   "metadata": {
    "collapsed": false,
    "pycharm": {
     "name": "#%%\n"
    }
   }
  },
  {
   "cell_type": "markdown",
   "source": [
    "Print the confusion matrix and the derived scores"
   ],
   "metadata": {
    "collapsed": false,
    "pycharm": {
     "name": "#%% md\n"
    }
   }
  },
  {
   "cell_type": "code",
   "execution_count": null,
   "outputs": [],
   "source": [
    "macro_scores = overall_confusion_matrix.get_macro_scores()\n",
    "print(\"Confusion-matrix based macro scores:\")\n",
    "print(f\" -> {macro_scores}\")\n",
    "\n",
    "plt.figure(figsize=(7, 7))\n",
    "overall_confusion_matrix.plot(title=f\"Confusion matrix for classification confidence over {len(dataset_folders)} datasets\")\n",
    "\n"
   ],
   "metadata": {
    "collapsed": false,
    "pycharm": {
     "name": "#%%\n"
    }
   }
  },
  {
   "cell_type": "code",
   "execution_count": null,
   "metadata": {
    "pycharm": {
     "name": "#%%\n"
    }
   },
   "outputs": [],
   "source": []
  },
  {
   "cell_type": "code",
   "execution_count": null,
   "metadata": {
    "pycharm": {
     "name": "#%%\n"
    }
   },
   "outputs": [],
   "source": []
  },
  {
   "cell_type": "code",
   "execution_count": null,
   "metadata": {
    "pycharm": {
     "name": "#%%\n"
    }
   },
   "outputs": [],
   "source": []
  },
  {
   "cell_type": "code",
   "execution_count": null,
   "outputs": [],
   "source": [],
   "metadata": {
    "collapsed": false,
    "pycharm": {
     "name": "#%%\n"
    }
   }
  },
  {
   "cell_type": "code",
   "execution_count": null,
   "outputs": [],
   "source": [],
   "metadata": {
    "collapsed": false,
    "pycharm": {
     "name": "#%%\n"
    }
   }
  },
  {
   "cell_type": "code",
   "execution_count": null,
   "outputs": [],
   "source": [],
   "metadata": {
    "collapsed": false,
    "pycharm": {
     "name": "#%%\n"
    }
   }
  },
  {
   "cell_type": "code",
   "execution_count": null,
   "outputs": [],
   "source": [],
   "metadata": {
    "collapsed": false,
    "pycharm": {
     "name": "#%%\n"
    }
   }
  }
 ],
 "metadata": {
  "kernelspec": {
   "display_name": "Python 3",
   "language": "python",
   "name": "python3"
  },
  "language_info": {
   "codemirror_mode": {
    "name": "ipython",
    "version": 3
   },
   "file_extension": ".py",
   "mimetype": "text/x-python",
   "name": "python",
   "nbconvert_exporter": "python",
   "pygments_lexer": "ipython3",
   "version": "3.9.6"
  }
 },
 "nbformat": 4,
 "nbformat_minor": 1
}