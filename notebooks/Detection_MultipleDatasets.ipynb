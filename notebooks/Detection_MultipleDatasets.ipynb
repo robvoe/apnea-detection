{
 "cells": [
  {
   "cell_type": "code",
   "execution_count": null,
   "metadata": {
    "pycharm": {
     "name": "#%%\n"
    }
   },
   "outputs": [],
   "source": [
    "%load_ext autoreload\n",
    "%autoreload 2\n",
    "%cd ..\n",
    "\n",
    "from IPython.core.display import display, HTML\n",
    "display(HTML(\"<style>.container { width:90% !important; }</style>\"))"
   ]
  },
  {
   "cell_type": "code",
   "execution_count": null,
   "metadata": {
    "pycharm": {
     "name": "#%%\n"
    }
   },
   "outputs": [],
   "source": [
    "import pickle\n",
    "from typing import Dict, Tuple, List\n",
    "from collections import Counter\n",
    "\n",
    "import matplotlib.pyplot as plt\n",
    "from matplotlib.dates import date2num\n",
    "import numpy as np\n",
    "import pandas as pd\n",
    "from tqdm.notebook import tqdm\n",
    "import scipy.signal\n",
    "import scipy.fftpack\n",
    "\n",
    "from util.paths import DATA_PATH\n",
    "from util.datasets import SlidingWindowDataset, read_physionet_dataset, RespiratoryEventType\n",
    "from util.filter import apply_butterworth_bandpass_filter, apply_butterworth_lowpass_filter\n",
    "from util.mathutil import get_peaks, PeakType, cluster_1d, IntRange\n",
    "from rule_based import detect_respiratory_events\n",
    "from rule_based.detector import _detect_airflow_resp_events\n",
    "from util.event_based_metrics import EventBasedConfusionMatrix, get_overlaps, get_n_detected_annotations\n",
    "\n",
    "# Makes numpy raise errors instead of outputting warnings\n",
    "np.seterr('raise')\n",
    "\n",
    "# Some preparations to pretty-print tensors & ndarrays\n",
    "np.set_printoptions(edgeitems=10)\n",
    "np.core.arrayprint._line_width = 400"
   ]
  },
  {
   "cell_type": "code",
   "execution_count": null,
   "metadata": {
    "pycharm": {
     "name": "#%%\n"
    }
   },
   "outputs": [],
   "source": [
    "dataset_names = (\"tr03-0005\", \"tr03-0289\", \"tr03-0921\", \"tr04-1078\", \"tr07-0168\")\n",
    "print(f\"Running detector over {len(dataset_names)} datasets..\")\n",
    "print()\n",
    "\n",
    "confusion_matrix = EventBasedConfusionMatrix.empty()\n",
    "n_annotated_events: int = 0\n",
    "n_detected_events: int = 0\n",
    "n_detected_annotations: int = 0\n",
    "for dataset_name in tqdm(dataset_names):\n",
    "    dataset_folder = DATA_PATH / \"training\" / dataset_name\n",
    "    config = SlidingWindowDataset.Config(\n",
    "        physionet_dataset_folder=dataset_folder,\n",
    "        downsample_frequency_hz=5,\n",
    "        time_window_size=pd.Timedelta(\"5 minutes\")\n",
    "    )\n",
    "    sliding_window_dataset = SlidingWindowDataset(config=config, allow_caching=True)\n",
    "    detected_respiratory_events = detect_respiratory_events(sliding_window_dataset.signals, sample_frequency_hz=sliding_window_dataset.config.downsample_frequency_hz, discard_wake_stages=False)\n",
    "\n",
    "    n_annotated_events += len(sliding_window_dataset.respiratory_events)\n",
    "    n_detected_events += len(detected_respiratory_events)\n",
    "\n",
    "    cm_ = EventBasedConfusionMatrix(annotated_events=sliding_window_dataset.respiratory_events, detected_events=detected_respiratory_events)\n",
    "    confusion_matrix += cm_\n",
    "    o_ = get_n_detected_annotations(annotated_events=sliding_window_dataset.respiratory_events, detected_events=detected_respiratory_events)\n",
    "    n_detected_annotations += o_\n",
    "\n",
    "print()\n",
    "print(f\"Number of annotated respiratory events: {n_annotated_events}\")\n",
    "print(f\"Number of detected respiratory events: {n_detected_events}\")\n",
    "print()\n",
    "print(f\"Number of detected annotations (overlaps): {n_detected_annotations}\")\n",
    "print(f\" -> Annotation recall: {n_detected_annotations/n_annotated_events:.3f}\")"
   ]
  },
  {
   "cell_type": "code",
   "execution_count": null,
   "metadata": {
    "pycharm": {
     "name": "#%%\n"
    }
   },
   "outputs": [],
   "source": [
    "macro_scores = confusion_matrix.get_macro_scores()\n",
    "print(\"Confusion-matrix based macro scores:\")\n",
    "print(f\" -> {macro_scores}\")\n",
    "\n",
    "plt.figure(figsize=(7, 7))\n",
    "confusion_matrix.plot()\n"
   ]
  }
 ],
 "metadata": {
  "kernelspec": {
   "display_name": "Python 3",
   "language": "python",
   "name": "python3"
  },
  "language_info": {
   "codemirror_mode": {
    "name": "ipython",
    "version": 3
   },
   "file_extension": ".py",
   "mimetype": "text/x-python",
   "name": "python",
   "nbconvert_exporter": "python",
   "pygments_lexer": "ipython3",
   "version": "3.9.6"
  }
 },
 "nbformat": 4,
 "nbformat_minor": 1
}